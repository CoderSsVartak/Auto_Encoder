{
 "cells": [
  {
   "cell_type": "code",
   "execution_count": 1,
   "metadata": {},
   "outputs": [],
   "source": [
    "import numpy as np\n",
    "import matplotlib.pyplot as plt\n",
    "import tensorflow as tf\n",
    "import tensorflow.keras as keras\n",
    "from tensorflow.keras.layers import Dense, Conv2D, Conv2DTranspose, BatchNormalization, MaxPooling2D, UpSampling2D\n",
    "from tensorflow.keras import Input, Model\n",
    "from sklearn.model_selection import train_test_split"
   ]
  },
  {
   "cell_type": "code",
   "execution_count": 2,
   "metadata": {},
   "outputs": [],
   "source": [
    "#define the noisy dataset\n",
    "#x is unnormalized image dataset\n",
    "def add_noise(x):\n",
    "    \n",
    "    x_noise = x/255 + np.random.rand(x.shape[0], x.shape[1], x.shape[2]) * np.random.normal(loc=0.5, scale=0.3, size=x.shape)\n",
    "    x_noise = np.clip(x_noise, 0.0, 1.)\n",
    "    \n",
    "    return x_noise\n",
    "\n",
    "#Scale the image and reshape it to the shape\n",
    "#provide custom_shape for different shape. Default shape is x.shape[0], x.shape[1], x.shape[2], 1 \n",
    "def scale_reshape_clip(x, custom_shape=False, min_val=0.0, max_val=1.0):\n",
    "    \n",
    "    shape = (x.shape[0], x.shape[1], x.shape[2], 1)\n",
    "    if custom_shape:\n",
    "        shape = custom_shape\n",
    "        \n",
    "    x = np.reshape(x/255, shape)\n",
    "    x = np.clip(x, min_val, max_val)\n",
    "    \n",
    "    return x\n",
    "\n",
    "#images: list of images to be plotted\n",
    "def plot(images, figsize=(10, 10)):\n",
    "\n",
    "    plt.figure(figsize=figsize)\n",
    "    \n",
    "    for index, image in enumerate(images):\n",
    "        # display original\n",
    "        ax = plt.subplot(2, len(images), index + 1)\n",
    "        plt.imshow(image.reshape(28, 28))\n",
    "        plt.gray()\n",
    "        ax.get_xaxis().set_visible(False)\n",
    "        ax.get_yaxis().set_visible(False)\n",
    "\n",
    "    plt.show()\n",
    "\n",
    "#Make a prediction on the model given a single image\n",
    "def predict(model, img):\n",
    "    \n",
    "    #Get image with shape (28, 28, 1) and convert it to (1, 28, 28, 1)\n",
    "    img = np.reshape(img, (1, img.shape[0], img.shape[1], 1))\n",
    "    \n",
    "    #make prediction\n",
    "    pred = model.predict(img)\n",
    "    \n",
    "    #return prediction image with shape (28, 28)\n",
    "    pred = np.reshape(pred, (pred.shape[1], pred.shape[2]))\n",
    "    \n",
    "    return pred\n",
    "\n",
    "#A non-trainable model to blur the images\n",
    "def zoom():\n",
    "    \n",
    "    input_img = Input(shape=(28, 28, 1), dtype='float32')\n",
    "    \n",
    "    x = MaxPooling2D((2, 2))(input_img)\n",
    "    x = UpSampling2D((2, 2))(x)\n",
    "    \n",
    "    model = Model(input_img, x)\n",
    "    return model\n",
    "\n",
    "\n",
    "#Blur images to add more images to the dataset\n",
    "#x: list of images to be blured, start, end: start and ending index of the list\n",
    "def blur_images(x, start, end):\n",
    "\n",
    "    org = x[start:end]\n",
    "    blur = []\n",
    "    for index, img in enumerate(org):\n",
    "        blur.append(predict(zoom_model, img))\n",
    "    \n",
    "    return np.array(blur), np.array(org)"
   ]
  },
  {
   "cell_type": "code",
   "execution_count": 3,
   "metadata": {},
   "outputs": [],
   "source": [
    "opt = tf.keras.optimizers.Adam(lr=0.01, beta_1=0.9, beta_2=0.999)\n",
    "loss = 'binary_crossentropy'"
   ]
  },
  {
   "cell_type": "code",
   "execution_count": 4,
   "metadata": {},
   "outputs": [],
   "source": [
    "zoom_model = zoom()\n",
    "zoom_model.compile(loss=loss, optimizer=opt, metrics=['accuracy', 'binary_accuracy'])"
   ]
  },
  {
   "cell_type": "code",
   "execution_count": 5,
   "metadata": {},
   "outputs": [],
   "source": [
    "#load the dataset\n",
    "(x_train, y_train), (x_test, y_test) = keras.datasets.mnist.load_data()"
   ]
  },
  {
   "cell_type": "code",
   "execution_count": 6,
   "metadata": {},
   "outputs": [],
   "source": [
    "blurred, original = blur_images(x_train, 2000, 6000)\n",
    "\n",
    "#Reshape the blurred images to a 3 dim image\n",
    "blurred = np.reshape(blurred/255, (blurred.shape[0], blurred.shape[1], blurred.shape[2], 1))\n",
    "original = np.reshape(original/255, (original.shape[0], original.shape[1], original.shape[2], 1))"
   ]
  },
  {
   "cell_type": "code",
   "execution_count": 7,
   "metadata": {},
   "outputs": [
    {
     "name": "stdout",
     "output_type": "stream",
     "text": [
      "zoom\n"
     ]
    },
    {
     "data": {
      "image/png": "[encoded data removed]",
      "text/plain": [
       "<Figure size 720x720 with 10 Axes>"
      ]
     },
     "metadata": {
      "needs_background": "light"
     },
     "output_type": "display_data"
    },
    {
     "name": "stdout",
     "output_type": "stream",
     "text": [
      "actual\n"
     ]
    },
    {
     "data": {
      "image/png": "[encoded data removed]",
      "text/plain": [
       "<Figure size 720x720 with 10 Axes>"
      ]
     },
     "metadata": {
      "needs_background": "light"
     },
     "output_type": "display_data"
    }
   ],
   "source": [
    "print(\"zoom\")\n",
    "plot(blurred[:10])\n",
    "print(\"actual\")\n",
    "plot(original[:10])"
   ]
  },
  {
   "cell_type": "code",
   "execution_count": 9,
   "metadata": {},
   "outputs": [],
   "source": [
    "#Define the noisy dataset which will be input to the model\n",
    "x_train_noise, x_test_noise = scale_reshape_clip(add_noise(x_train)), scale_reshape_clip(add_noise(x_test))\n",
    "\n",
    "#Reshape and scale the output dataset\n",
    "x_train, x_test = scale_reshape_clip(x_train), scale_reshape_clip(x_test)"
   ]
  },
  {
   "cell_type": "code",
   "execution_count": 10,
   "metadata": {},
   "outputs": [],
   "source": [
    "#Split the test set in test and dev set\n",
    "x_test_noise, x_dev_noise, x_test, x_dev = train_test_split(x_test_noise, x_test, test_size=0.1)"
   ]
  },
  {
   "cell_type": "code",
   "execution_count": 11,
   "metadata": {},
   "outputs": [],
   "source": [
    "#add some noiseless data to the training set\n",
    "x_train_noise = np.concatenate((x_train_noise, x_test[:2000], blurred))\n",
    "x_train = np.concatenate((x_train, x_test[:2000], original))\n",
    "\n",
    "x_test = np.concatenate((x_test[2000:], blurred[:2000]))\n",
    "x_test_noise = np.concatenate((x_test_noise[2000:], original[:2000]))"
   ]
  },
  {
   "cell_type": "code",
   "execution_count": 14,
   "metadata": {},
   "outputs": [
    {
     "name": "stdout",
     "output_type": "stream",
     "text": [
      "53289\n"
     ]
    },
    {
     "data": {
      "image/png": "[encoded data removed]",
      "text/plain": [
       "<Figure size 144x144 with 2 Axes>"
      ]
     },
     "metadata": {
      "needs_background": "light"
     },
     "output_type": "display_data"
    },
    {
     "name": "stdout",
     "output_type": "stream",
     "text": [
      "64349\n"
     ]
    },
    {
     "data": {
      "image/png": "[encoded data removed]",
      "text/plain": [
       "<Figure size 144x144 with 2 Axes>"
      ]
     },
     "metadata": {
      "needs_background": "light"
     },
     "output_type": "display_data"
    }
   ],
   "source": [
    "#Visualize results:\n",
    "for i in range(2):\n",
    "    index = np.random.randint(50000, len(x_train))\n",
    "    ip_img, op_img = x_train[index], x_train_noise[index]\n",
    "    print(index)\n",
    "    plot([ip_img, op_img], figsize=(2, 2))"
   ]
  },
  {
   "cell_type": "code",
   "execution_count": 13,
   "metadata": {},
   "outputs": [
    {
     "data": {
      "text/plain": [
       "((66000, 28, 28, 1),\n",
       " (66000, 28, 28, 1),\n",
       " (9000, 28, 28, 1),\n",
       " (9000, 28, 28, 1),\n",
       " (1000, 28, 28, 1),\n",
       " (1000, 28, 28, 1))"
      ]
     },
     "execution_count": 13,
     "metadata": {},
     "output_type": "execute_result"
    }
   ],
   "source": [
    "x_train.shape, x_train_noise.shape, x_test.shape, x_test_noise.shape, x_dev.shape, x_dev_noise.shape"
   ]
  },
  {
   "cell_type": "code",
   "execution_count": 15,
   "metadata": {},
   "outputs": [],
   "source": [
    "def model():\n",
    "    \n",
    "    input_img = Input(shape=(28, 28, 1), dtype='float32')\n",
    "    \n",
    "    #1st Convolution Layer with Batch Normalization\n",
    "    x = Conv2D(64, (9, 9), activation='sigmoid')(input_img)\n",
    "    x = BatchNormalization()(x)\n",
    "    \n",
    "    #2nd Convolution Layer with Batch Normalization\n",
    "    x = Conv2D(32, (1, 1), activation='sigmoid')(x)\n",
    "    \n",
    "    #1st DeConv Layer\n",
    "    x = Conv2DTranspose(16, (5, 5), activation='sigmoid')(x)\n",
    "    \n",
    "    #2nd DeConv layer\n",
    "    x = Conv2DTranspose(1, (5, 5), activation='sigmoid')(x)\n",
    "    \n",
    "    model = Model(input_img, x)\n",
    "    \n",
    "    return model\n",
    "    "
   ]
  },
  {
   "cell_type": "code",
   "execution_count": 16,
   "metadata": {},
   "outputs": [],
   "source": [
    "auto_encode = model()"
   ]
  },
  {
   "cell_type": "code",
   "execution_count": 17,
   "metadata": {},
   "outputs": [
    {
     "name": "stdout",
     "output_type": "stream",
     "text": [
      "Model: \"model_1\"\n",
      "_________________________________________________________________\n",
      "Layer (type)                 Output Shape              Param #   \n",
      "=================================================================\n",
      "input_2 (InputLayer)         [(None, 28, 28, 1)]       0         \n",
      "_________________________________________________________________\n",
      "conv2d (Conv2D)              (None, 20, 20, 64)        5248      \n",
      "_________________________________________________________________\n",
      "batch_normalization (BatchNo (None, 20, 20, 64)        256       \n",
      "_________________________________________________________________\n",
      "conv2d_1 (Conv2D)            (None, 20, 20, 32)        2080      \n",
      "_________________________________________________________________\n",
      "conv2d_transpose (Conv2DTran (None, 24, 24, 16)        12816     \n",
      "_________________________________________________________________\n",
      "conv2d_transpose_1 (Conv2DTr (None, 28, 28, 1)         401       \n",
      "=================================================================\n",
      "Total params: 20,801\n",
      "Trainable params: 20,673\n",
      "Non-trainable params: 128\n",
      "_________________________________________________________________\n"
     ]
    }
   ],
   "source": [
    "auto_encode.summary()"
   ]
  },
  {
   "cell_type": "code",
   "execution_count": 18,
   "metadata": {},
   "outputs": [],
   "source": [
    "auto_encode.compile(loss=loss, optimizer=opt, metrics=['accuracy', 'binary_accuracy'])"
   ]
  },
  {
   "cell_type": "code",
   "execution_count": 19,
   "metadata": {},
   "outputs": [
    {
     "name": "stdout",
     "output_type": "stream",
     "text": [
      "Train on 66000 samples, validate on 9000 samples\n",
      "Epoch 1/5\n",
      "66000/66000 [==============================] - 220s 3ms/sample - loss: 0.1321 - accuracy: 0.8107 - binary_accuracy: 0.8107 - val_loss: 0.1473 - val_accuracy: 0.8008 - val_binary_accuracy: 0.8008\n",
      "Epoch 2/5\n",
      "66000/66000 [==============================] - 213s 3ms/sample - loss: 0.0824 - accuracy: 0.8147 - binary_accuracy: 0.8147 - val_loss: 0.1555 - val_accuracy: 0.8007 - val_binary_accuracy: 0.8007\n",
      "Epoch 3/5\n",
      "66000/66000 [==============================] - 214s 3ms/sample - loss: 0.0783 - accuracy: 0.8148 - binary_accuracy: 0.8148 - val_loss: 0.1616 - val_accuracy: 0.8006 - val_binary_accuracy: 0.8006\n",
      "Epoch 4/5\n",
      "66000/66000 [==============================] - 215s 3ms/sample - loss: 0.0756 - accuracy: 0.8149 - binary_accuracy: 0.8149 - val_loss: 0.1373 - val_accuracy: 0.8011 - val_binary_accuracy: 0.8011\n",
      "Epoch 5/5\n",
      "66000/66000 [==============================] - 214s 3ms/sample - loss: 0.0748 - accuracy: 0.8150 - binary_accuracy: 0.8150 - val_loss: 0.1297 - val_accuracy: 0.8012 - val_binary_accuracy: 0.8012\n"
     ]
    }
   ],
   "source": [
    "history = auto_encode.fit(x_train_noise, x_train, epochs=5, batch_size=64, validation_data=(x_test_noise, x_test), shuffle=True)"
   ]
  },
  {
   "cell_type": "code",
   "execution_count": 37,
   "metadata": {
    "scrolled": false
   },
   "outputs": [
    {
     "name": "stdout",
     "output_type": "stream",
     "text": [
      " Noisy Image  Predicted Image  Actual Image\n",
      "791\n"
     ]
    },
    {
     "data": {
      "image/png": "[encoded data removed]",
      "text/plain": [
       "<Figure size 360x360 with 3 Axes>"
      ]
     },
     "metadata": {
      "needs_background": "light"
     },
     "output_type": "display_data"
    },
    {
     "data": {
      "image/png": "[encoded data removed]",
      "text/plain": [
       "<Figure size 360x360 with 3 Axes>"
      ]
     },
     "metadata": {
      "needs_background": "light"
     },
     "output_type": "display_data"
    },
    {
     "data": {
      "image/png": "[encoded data removed]",
      "text/plain": [
       "<Figure size 360x360 with 3 Axes>"
      ]
     },
     "metadata": {
      "needs_background": "light"
     },
     "output_type": "display_data"
    },
    {
     "data": {
      "image/png": "[encoded data removed]",
      "text/plain": [
       "<Figure size 360x360 with 3 Axes>"
      ]
     },
     "metadata": {
      "needs_background": "light"
     },
     "output_type": "display_data"
    },
    {
     "name": "stdout",
     "output_type": "stream",
     "text": [
      "293\n"
     ]
    },
    {
     "data": {
      "image/png": "[encoded data removed]",
      "text/plain": [
       "<Figure size 360x360 with 3 Axes>"
      ]
     },
     "metadata": {
      "needs_background": "light"
     },
     "output_type": "display_data"
    },
    {
     "data": {
      "image/png": "[encoded data removed]",
      "text/plain": [
       "<Figure size 360x360 with 3 Axes>"
      ]
     },
     "metadata": {
      "needs_background": "light"
     },
     "output_type": "display_data"
    },
    {
     "data": {
      "image/png": "[encoded data removed]",
      "text/plain": [
       "<Figure size 360x360 with 3 Axes>"
      ]
     },
     "metadata": {
      "needs_background": "light"
     },
     "output_type": "display_data"
    },
    {
     "data": {
      "image/png": "[encoded data removed]",
      "text/plain": [
       "<Figure size 360x360 with 3 Axes>"
      ]
     },
     "metadata": {
      "needs_background": "light"
     },
     "output_type": "display_data"
    },
    {
     "name": "stdout",
     "output_type": "stream",
     "text": [
      "235\n"
     ]
    },
    {
     "data": {
      "image/png": "[encoded data removed]",
      "text/plain": [
       "<Figure size 360x360 with 3 Axes>"
      ]
     },
     "metadata": {
      "needs_background": "light"
     },
     "output_type": "display_data"
    },
    {
     "data": {
      "image/png": "[encoded data removed]",
      "text/plain": [
       "<Figure size 360x360 with 3 Axes>"
      ]
     },
     "metadata": {
      "needs_background": "light"
     },
     "output_type": "display_data"
    },
    {
     "data": {
      "image/png": "[encoded data removed]",
      "text/plain": [
       "<Figure size 360x360 with 3 Axes>"
      ]
     },
     "metadata": {
      "needs_background": "light"
     },
     "output_type": "display_data"
    },
    {
     "data": {
      "image/png": "[encoded data removed]",
      "text/plain": [
       "<Figure size 360x360 with 3 Axes>"
      ]
     },
     "metadata": {
      "needs_background": "light"
     },
     "output_type": "display_data"
    },
    {
     "name": "stdout",
     "output_type": "stream",
     "text": [
      "793\n"
     ]
    },
    {
     "data": {
      "image/png": "[encoded data removed]",
      "text/plain": [
       "<Figure size 360x360 with 3 Axes>"
      ]
     },
     "metadata": {
      "needs_background": "light"
     },
     "output_type": "display_data"
    },
    {
     "data": {
      "image/png": "[encoded data removed]",
      "text/plain": [
       "<Figure size 360x360 with 3 Axes>"
      ]
     },
     "metadata": {
      "needs_background": "light"
     },
     "output_type": "display_data"
    },
    {
     "data": {
      "image/png": "[encoded data removed]",
      "text/plain": [
       "<Figure size 360x360 with 3 Axes>"
      ]
     },
     "metadata": {
      "needs_background": "light"
     },
     "output_type": "display_data"
    },
    {
     "data": {
      "image/png": "[encoded data removed]",
      "text/plain": [
       "<Figure size 360x360 with 3 Axes>"
      ]
     },
     "metadata": {
      "needs_background": "light"
     },
     "output_type": "display_data"
    },
    {
     "name": "stdout",
     "output_type": "stream",
     "text": [
      "968\n"
     ]
    },
    {
     "data": {
      "image/png": "[encoded data removed]",
      "text/plain": [
       "<Figure size 360x360 with 3 Axes>"
      ]
     },
     "metadata": {
      "needs_background": "light"
     },
     "output_type": "display_data"
    },
    {
     "data": {
      "image/png": "[encoded data removed]",
      "text/plain": [
       "<Figure size 360x360 with 3 Axes>"
      ]
     },
     "metadata": {
      "needs_background": "light"
     },
     "output_type": "display_data"
    },
    {
     "data": {
      "image/png": "[encoded data removed]",
      "text/plain": [
       "<Figure size 360x360 with 3 Axes>"
      ]
     },
     "metadata": {
      "needs_background": "light"
     },
     "output_type": "display_data"
    },
    {
     "data": {
      "image/png": "[encoded data removed]",
      "text/plain": [
       "<Figure size 360x360 with 3 Axes>"
      ]
     },
     "metadata": {
      "needs_background": "light"
     },
     "output_type": "display_data"
    }
   ],
   "source": [
    "print(\" Noisy Image  Predicted Image  Actual Image\")\n",
    "for i in range(5):\n",
    "    \n",
    "    #Select an image from development set\n",
    "    index = np.random.randint(0, len(x_dev))\n",
    "    print(index)\n",
    "    img_noise = x_dev_noise[index]\n",
    "    img_org = x_dev[index]\n",
    "    img_blur = blurred[index]\n",
    "    \n",
    "    #Make a prediction on noisy, original and a blurred image\n",
    "    pred_noise = predict(auto_encode, img_noise)\n",
    "    pred_org = predict(auto_encode, img_org)\n",
    "    pred_blur = predict(auto_encode, img_blur)\n",
    "    pred_noisy_blur = predict(auto_encode, predict(zoom_model, img_noise))\n",
    "    \n",
    "    plot([img_noise*255, pred_noise*255, img_org*255], figsize=(5, 5))\n",
    "    plot([img_org*255, pred_org*255, img_org*255], figsize=(5, 5))\n",
    "    plot([img_blur*255, pred_blur*255, original[index]], figsize=(5, 5))\n",
    "    plot([predict(zoom_model, img_noise)*255, pred_noisy_blur*255, img_org*255], figsize=(5, 5))"
   ]
  },
  {
   "cell_type": "code",
   "execution_count": 38,
   "metadata": {},
   "outputs": [],
   "source": [
    "#Save the model\n",
    "auto_encode.save('mnist_auto_encoder_with_zoomed_images.h5')"
   ]
  },
  {
   "cell_type": "code",
   "execution_count": 39,
   "metadata": {},
   "outputs": [],
   "source": [
    "model = auto_encode.load_weights('mnist_auto_encoder.h5')"
   ]
  },
  {
   "cell_type": "code",
   "execution_count": 40,
   "metadata": {},
   "outputs": [
    {
     "data": {
      "image/png": "[encoded data removed]",
      "text/plain": [
       "<Figure size 432x288 with 1 Axes>"
      ]
     },
     "metadata": {
      "needs_background": "light"
     },
     "output_type": "display_data"
    }
   ],
   "source": [
    "plt.plot(history.history['accuracy'], label='accuracy')\n",
    "plt.plot(history.history['val_accuracy'], label='val_accuracy')\n",
    "plt.xlabel('Iterations')\n",
    "plt.ylabel('Accuracy')\n",
    "plt.legend()\n",
    "plt.show()"
   ]
  },
  {
   "cell_type": "code",
   "execution_count": 158,
   "metadata": {},
   "outputs": [
    {
     "data": {
      "image/png": "[encoded data removed]",
      "text/plain": [
       "<Figure size 432x288 with 1 Axes>"
      ]
     },
     "metadata": {
      "needs_background": "light"
     },
     "output_type": "display_data"
    }
   ],
   "source": [
    "plt.plot(history.history['loss'], label='loss')\n",
    "plt.plot(history.history['val_loss'], label='val_loss')\n",
    "plt.xlabel('Iterations')\n",
    "plt.ylabel('Loss')\n",
    "plt.legend()\n",
    "plt.show()"
   ]
  }
 ],
 "metadata": {
  "kernelspec": {
   "display_name": "Python 3",
   "language": "python",
   "name": "python3"
  },
  "language_info": {
   "codemirror_mode": {
    "name": "ipython",
    "version": 3
   },
   "file_extension": ".py",
   "mimetype": "text/x-python",
   "name": "python",
   "nbconvert_exporter": "python",
   "pygments_lexer": "ipython3",
   "version": "3.7.4"
  }
 },
 "nbformat": 4,
 "nbformat_minor": 2
}
