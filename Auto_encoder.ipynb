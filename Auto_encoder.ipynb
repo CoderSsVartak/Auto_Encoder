{
 "cells": [
  {
   "cell_type": "code",
   "execution_count": 1,
   "metadata": {},
   "outputs": [],
   "source": [
    "import numpy as np\n",
    "import matplotlib.pyplot as plt\n",
    "import tensorflow as tf\n",
    "import tensorflow.keras as keras\n",
    "from tensorflow.keras.layers import Dense, Conv2D, Conv2DTranspose, BatchNormalization, MaxPooling2D, UpSampling2D\n",
    "from tensorflow.keras import Input, Model\n",
    "from sklearn.model_selection import train_test_split\n",
    "from IPython.display import clear_output\n"
   ]
  },
  {
   "cell_type": "code",
   "execution_count": 2,
   "metadata": {},
   "outputs": [],
   "source": [
    "#define the noisy dataset\n",
    "#x is unnormalized image dataset\n",
    "def add_noise(x, clip=True, return_params=False):\n",
    "    \n",
    "    random = np.random.rand(x.shape[0], x.shape[1], x.shape[2])\n",
    "    dist = np.random.normal(loc=0.5, scale=0.3, size=x.shape)\n",
    "    \n",
    "    x_noise = x + random * dist\n",
    "    if clip:\n",
    "        x_noise = np.clip(x_noise, 0.0, 1.)\n",
    "    \n",
    "    if return_params:\n",
    "        return x_noise, random, dist\n",
    "    \n",
    "    return x_noise\n",
    "\n",
    "\n",
    "#Scale the image and reshape it to the shape\n",
    "#provide custom_shape for different shape. Default shape is x.shape[0], x.shape[1], x.shape[2], 1 \n",
    "def scale_reshape_clip(x, custom_shape=False, min_val=0.0, max_val=1.0, scale=True, reshape=True, clip=True):\n",
    "    \n",
    "    shape = (x.shape[0], x.shape[1], x.shape[2], 1)\n",
    "    if custom_shape:\n",
    "        shape = custom_shape\n",
    "    \n",
    "    \n",
    "    if reshape:\n",
    "        x = np.reshape(x, shape)\n",
    "    if scale:\n",
    "        x = x/255\n",
    "    if clip:\n",
    "        x = np.clip(x, min_val, max_val)\n",
    "    \n",
    "    return x\n",
    "\n",
    "#images: list of images to be plotted\n",
    "def plot(images, figsize=(10, 10)):\n",
    "\n",
    "    plt.figure(figsize=figsize)\n",
    "    \n",
    "    for index, image in enumerate(images):\n",
    "        # display original\n",
    "        ax = plt.subplot(2, len(images), index + 1)\n",
    "        plt.imshow(image.reshape(28, 28))\n",
    "        plt.gray()\n",
    "        ax.get_xaxis().set_visible(False)\n",
    "        ax.get_yaxis().set_visible(False)\n",
    "\n",
    "    plt.show()\n",
    "\n",
    "#Make a prediction on the model given a single image\n",
    "def predict(model, img):\n",
    "    \n",
    "    #Get image with shape (28, 28, 1) and convert it to (1, 28, 28, 1)\n",
    "    img = np.reshape(img, (1, img.shape[0], img.shape[1], 1))\n",
    "    \n",
    "    #make prediction\n",
    "    pred = model.predict(img)\n",
    "    \n",
    "    #return prediction image with shape (28, 28)\n",
    "    pred = np.reshape(pred, (pred.shape[1], pred.shape[2]))\n",
    "    \n",
    "    return pred\n",
    "\n",
    "#A non-trainable model to blur the images\n",
    "def zoom():\n",
    "    \n",
    "    input_img = Input(shape=(28, 28, 1), dtype='float32')\n",
    "    \n",
    "    x = MaxPooling2D((2, 2))(input_img)\n",
    "    x = UpSampling2D((2, 2))(x)\n",
    "    \n",
    "    model = Model(input_img, x)\n",
    "    return model\n",
    "\n",
    "\n",
    "#Blur images to add more images to the dataset\n",
    "#x: list of images to be blured, start, end: start and ending index of the list\n",
    "def blur_images(x, start, end):\n",
    "\n",
    "    org = x[start:end]\n",
    "    blur = []\n",
    "    for index, img in enumerate(org):\n",
    "        blur.append(predict(zoom_model, img))\n",
    "        clear_output(wait=True)\n",
    "        print(\"=\"*int(index/100), index, end='')\n",
    "    \n",
    "    return np.array(blur), np.array(org)\n",
    "\n",
    "#Convert the image from black to white to remove the boundary overfitting\n",
    "def inverted_image(images, max_val=255):\n",
    "    \n",
    "    return max_val - images"
   ]
  },
  {
   "cell_type": "code",
   "execution_count": 3,
   "metadata": {},
   "outputs": [],
   "source": [
    "opt = tf.keras.optimizers.Adam(lr=0.01, beta_1=0.9, beta_2=0.999)\n",
    "loss = 'binary_crossentropy'"
   ]
  },
  {
   "cell_type": "code",
   "execution_count": 4,
   "metadata": {},
   "outputs": [],
   "source": [
    "zoom_model = zoom()\n",
    "zoom_model.compile(loss=loss, optimizer=opt, metrics=['accuracy', 'binary_accuracy'])"
   ]
  },
  {
   "cell_type": "code",
   "execution_count": 5,
   "metadata": {},
   "outputs": [],
   "source": [
    "#load the dataset\n",
    "(x_train, y_train), (x_test, y_test) = keras.datasets.mnist.load_data()"
   ]
  },
  {
   "cell_type": "code",
   "execution_count": 6,
   "metadata": {},
   "outputs": [
    {
     "name": "stdout",
     "output_type": "stream",
     "text": [
      "======================================= 3999"
     ]
    }
   ],
   "source": [
    "#Get zoomed images\n",
    "blurred, original = blur_images(x_train, 2000, 6000)\n",
    "white_noise = inverted_image(x_train[:5000])"
   ]
  },
  {
   "cell_type": "code",
   "execution_count": 7,
   "metadata": {},
   "outputs": [],
   "source": [
    "blurred = scale_reshape_clip(blurred, scale=True, clip=True)\n",
    "original = scale_reshape_clip(original, scale=True, clip=True)\n",
    "white_noise = scale_reshape_clip(white_noise, scale=True, clip=True)"
   ]
  },
  {
   "cell_type": "code",
   "execution_count": 44,
   "metadata": {},
   "outputs": [
    {
     "name": "stdout",
     "output_type": "stream",
     "text": [
      "=================== 1999"
     ]
    }
   ],
   "source": [
    "zoomed_white, original_white = blur_images(white_noise, 1000, 3000)"
   ]
  },
  {
   "cell_type": "code",
   "execution_count": 46,
   "metadata": {},
   "outputs": [],
   "source": [
    "zoomed_white = scale_reshape_clip(zoomed_white, scale=False, clip=True)\n",
    "original_white = scale_reshape_clip(original_white, scale=False, clip=True)"
   ]
  },
  {
   "cell_type": "code",
   "execution_count": 8,
   "metadata": {},
   "outputs": [],
   "source": [
    "#Define the noisy dataset which will be input to the model\n",
    "x_train_noise, x_test_noise = scale_reshape_clip(add_noise(x_train, clip=False)), scale_reshape_clip(add_noise(x_test, clip=False))\n",
    "\n",
    "#Reshape and scale the output dataset\n",
    "x_train, x_test = scale_reshape_clip(x_train), scale_reshape_clip(x_test)"
   ]
  },
  {
   "cell_type": "code",
   "execution_count": 9,
   "metadata": {},
   "outputs": [],
   "source": [
    "#Split the test set in test and dev set\n",
    "x_test_noise, x_dev_noise, x_test, x_dev = train_test_split(x_test_noise, x_test, test_size=0.1)"
   ]
  },
  {
   "cell_type": "code",
   "execution_count": 49,
   "metadata": {},
   "outputs": [
    {
     "data": {
      "text/plain": [
       "((84000, 28, 28, 1),\n",
       " (12000, 28, 28, 1),\n",
       " (4000, 28, 28, 1),\n",
       " (5000, 28, 28, 1),\n",
       " (4000, 28, 28, 1),\n",
       " (2000, 28, 28, 1),\n",
       " (2000, 28, 28, 1))"
      ]
     },
     "execution_count": 49,
     "metadata": {},
     "output_type": "execute_result"
    }
   ],
   "source": [
    "x_train.shape, x_test.shape, blurred.shape, white_noise.shape, original.shape, zoomed_white.shape, original_white.shape"
   ]
  },
  {
   "cell_type": "code",
   "execution_count": 48,
   "metadata": {},
   "outputs": [],
   "source": [
    "#add some noiseless data to the training set\n",
    "x_train_noise = np.concatenate((x_train_noise, x_test[:2000], blurred, white_noise, zoomed_white))\n",
    "x_train = np.concatenate((x_train, x_test[:2000], original, white_noise, original_white))\n",
    "\n",
    "x_test = np.concatenate((x_test[2000:], blurred[:2000], white_noise[:1000], zoomed_white[:1000]))\n",
    "x_test_noise = np.concatenate((x_test_noise[2000:], original[:2000], white_noise[:1000], original_white[:1000]))"
   ]
  },
  {
   "cell_type": "code",
   "execution_count": 51,
   "metadata": {},
   "outputs": [
    {
     "name": "stdout",
     "output_type": "stream",
     "text": [
      "noise\n"
     ]
    },
    {
     "data": {
      "image/png": "[encoded data removed]",
      "text/plain": [
       "<Figure size 720x720 with 10 Axes>"
      ]
     },
     "metadata": {
      "needs_background": "light"
     },
     "output_type": "display_data"
    },
    {
     "name": "stdout",
     "output_type": "stream",
     "text": [
      "zoom\n"
     ]
    },
    {
     "data": {
      "image/png": "[encoded data removed]",
      "text/plain": [
       "<Figure size 720x720 with 10 Axes>"
      ]
     },
     "metadata": {
      "needs_background": "light"
     },
     "output_type": "display_data"
    },
    {
     "name": "stdout",
     "output_type": "stream",
     "text": [
      "actual\n"
     ]
    },
    {
     "data": {
      "image/png": "[encoded data removed]",
      "text/plain": [
       "<Figure size 720x720 with 10 Axes>"
      ]
     },
     "metadata": {
      "needs_background": "light"
     },
     "output_type": "display_data"
    },
    {
     "name": "stdout",
     "output_type": "stream",
     "text": [
      "white noise\n"
     ]
    },
    {
     "data": {
      "image/png": "[encoded data removed]",
      "text/plain": [
       "<Figure size 720x720 with 10 Axes>"
      ]
     },
     "metadata": {
      "needs_background": "light"
     },
     "output_type": "display_data"
    },
    {
     "name": "stdout",
     "output_type": "stream",
     "text": [
      "White Zoomed\n"
     ]
    },
    {
     "data": {
      "image/png": "[encoded data removed]",
      "text/plain": [
       "<Figure size 720x720 with 10 Axes>"
      ]
     },
     "metadata": {
      "needs_background": "light"
     },
     "output_type": "display_data"
    },
    {
     "name": "stdout",
     "output_type": "stream",
     "text": [
      "Original White\n"
     ]
    },
    {
     "data": {
      "image/png": "[encoded data removed]",
      "text/plain": [
       "<Figure size 720x720 with 10 Axes>"
      ]
     },
     "metadata": {
      "needs_background": "light"
     },
     "output_type": "display_data"
    }
   ],
   "source": [
    "#Visualise the images from each set\n",
    "print(\"noise\")\n",
    "plot(x_train_noise[:10])\n",
    "print(\"zoom\")\n",
    "plot(blurred[:10])\n",
    "print(\"actual\")\n",
    "plot(original[:10])\n",
    "print(\"white noise\")\n",
    "plot(white_noise[:10])\n",
    "print(\"White Zoomed\")\n",
    "plot(zoomed_white[:10])\n",
    "print(\"Original White\")\n",
    "plot(original_white[:10])"
   ]
  },
  {
   "cell_type": "code",
   "execution_count": 52,
   "metadata": {},
   "outputs": [
    {
     "data": {
      "text/plain": [
       "((84000, 28, 28, 1),\n",
       " (84000, 28, 28, 1),\n",
       " (12000, 28, 28, 1),\n",
       " (12000, 28, 28, 1),\n",
       " (1000, 28, 28, 1),\n",
       " (1000, 28, 28, 1))"
      ]
     },
     "execution_count": 52,
     "metadata": {},
     "output_type": "execute_result"
    }
   ],
   "source": [
    "x_train.shape, x_train_noise.shape, x_test.shape, x_test_noise.shape, x_dev.shape, x_dev_noise.shape"
   ]
  },
  {
   "cell_type": "code",
   "execution_count": 18,
   "metadata": {},
   "outputs": [],
   "source": [
    "def model():\n",
    "    \n",
    "    input_img = Input(shape=(28, 28, 1), dtype='float32')\n",
    "    \n",
    "    #1st Convolution Layer with Batch Normalization\n",
    "    x = Conv2D(64, (9, 9), activation='sigmoid')(input_img)\n",
    "    x = BatchNormalization()(x)\n",
    "    \n",
    "    #2nd Convolution Layer with Batch Normalization\n",
    "    x = Conv2D(32, (1, 1), activation='sigmoid')(x)\n",
    "    \n",
    "    #1st DeConv Layer\n",
    "    x = Conv2DTranspose(16, (5, 5), activation='sigmoid')(x)\n",
    "    \n",
    "    #2nd DeConv layer\n",
    "    x = Conv2DTranspose(1, (5, 5), activation='sigmoid')(x)\n",
    "    \n",
    "    model = Model(input_img, x)\n",
    "    \n",
    "    return model\n",
    "    "
   ]
  },
  {
   "cell_type": "code",
   "execution_count": 19,
   "metadata": {},
   "outputs": [],
   "source": [
    "auto_encode = model()"
   ]
  },
  {
   "cell_type": "code",
   "execution_count": 20,
   "metadata": {},
   "outputs": [
    {
     "name": "stdout",
     "output_type": "stream",
     "text": [
      "Model: \"model_1\"\n",
      "_________________________________________________________________\n",
      "Layer (type)                 Output Shape              Param #   \n",
      "=================================================================\n",
      "input_2 (InputLayer)         [(None, 28, 28, 1)]       0         \n",
      "_________________________________________________________________\n",
      "conv2d (Conv2D)              (None, 20, 20, 64)        5248      \n",
      "_________________________________________________________________\n",
      "batch_normalization (BatchNo (None, 20, 20, 64)        256       \n",
      "_________________________________________________________________\n",
      "conv2d_1 (Conv2D)            (None, 20, 20, 32)        2080      \n",
      "_________________________________________________________________\n",
      "conv2d_transpose (Conv2DTran (None, 24, 24, 16)        12816     \n",
      "_________________________________________________________________\n",
      "conv2d_transpose_1 (Conv2DTr (None, 28, 28, 1)         401       \n",
      "=================================================================\n",
      "Total params: 20,801\n",
      "Trainable params: 20,673\n",
      "Non-trainable params: 128\n",
      "_________________________________________________________________\n"
     ]
    }
   ],
   "source": [
    "auto_encode.summary()"
   ]
  },
  {
   "cell_type": "code",
   "execution_count": 21,
   "metadata": {},
   "outputs": [],
   "source": [
    "auto_encode.compile(loss=loss, optimizer=opt, metrics=['accuracy', 'binary_accuracy'])"
   ]
  },
  {
   "cell_type": "code",
   "execution_count": 53,
   "metadata": {},
   "outputs": [
    {
     "name": "stdout",
     "output_type": "stream",
     "text": [
      "Train on 84000 samples, validate on 12000 samples\n",
      "Epoch 1/10\n",
      "84000/84000 [==============================] - 121s 1ms/sample - loss: 0.0733 - accuracy: 0.8144 - binary_accuracy: 0.8144 - val_loss: 0.1543 - val_accuracy: 0.7979 - val_binary_accuracy: 0.7979\n",
      "Epoch 2/10\n",
      "84000/84000 [==============================] - 127s 2ms/sample - loss: 0.0679 - accuracy: 0.8148 - binary_accuracy: 0.8148 - val_loss: 0.1641 - val_accuracy: 0.7978 - val_binary_accuracy: 0.7978\n",
      "Epoch 3/10\n",
      "84000/84000 [==============================] - 188s 2ms/sample - loss: 0.0660 - accuracy: 0.8149 - binary_accuracy: 0.8149 - val_loss: 0.1949 - val_accuracy: 0.7968 - val_binary_accuracy: 0.7968\n",
      "Epoch 4/10\n",
      "84000/84000 [==============================] - 165s 2ms/sample - loss: 0.0650 - accuracy: 0.8149 - binary_accuracy: 0.8149 - val_loss: 0.1581 - val_accuracy: 0.7980 - val_binary_accuracy: 0.7980\n",
      "Epoch 5/10\n",
      "84000/84000 [==============================] - 152s 2ms/sample - loss: 0.0655 - accuracy: 0.8149 - binary_accuracy: 0.8149 - val_loss: 0.1982 - val_accuracy: 0.7974 - val_binary_accuracy: 0.7974\n",
      "Epoch 6/10\n",
      "84000/84000 [==============================] - 151s 2ms/sample - loss: 0.0639 - accuracy: 0.8150 - binary_accuracy: 0.8150 - val_loss: 0.1601 - val_accuracy: 0.7982 - val_binary_accuracy: 0.7982\n",
      "Epoch 7/10\n",
      "84000/84000 [==============================] - 127s 2ms/sample - loss: 0.0639 - accuracy: 0.8149 - binary_accuracy: 0.8149 - val_loss: 0.1872 - val_accuracy: 0.7978 - val_binary_accuracy: 0.7978\n",
      "Epoch 8/10\n",
      "84000/84000 [==============================] - 125s 1ms/sample - loss: 0.0633 - accuracy: 0.8150 - binary_accuracy: 0.8150 - val_loss: 0.1955 - val_accuracy: 0.7978 - val_binary_accuracy: 0.7978\n",
      "Epoch 9/10\n",
      "84000/84000 [==============================] - 126s 2ms/sample - loss: 0.0628 - accuracy: 0.8150 - binary_accuracy: 0.8150 - val_loss: 0.2124 - val_accuracy: 0.7979 - val_binary_accuracy: 0.7979\n",
      "Epoch 10/10\n",
      "84000/84000 [==============================] - 128s 2ms/sample - loss: 0.0626 - accuracy: 0.8150 - binary_accuracy: 0.8150 - val_loss: 0.2041 - val_accuracy: 0.7977 - val_binary_accuracy: 0.7977\n"
     ]
    }
   ],
   "source": [
    "history = auto_encode.fit(x_train_noise, x_train, epochs=10, batch_size=64, validation_data=(x_test_noise, x_test), shuffle=True)"
   ]
  },
  {
   "cell_type": "code",
   "execution_count": 54,
   "metadata": {
    "scrolled": false
   },
   "outputs": [
    {
     "name": "stdout",
     "output_type": "stream",
     "text": [
      " Noisy Image  Predicted Image  Actual Image\n",
      "Input: Noisy Image\n"
     ]
    },
    {
     "data": {
      "image/png": "[encoded data removed]",
      "text/plain": [
       "<Figure size 360x360 with 3 Axes>"
      ]
     },
     "metadata": {
      "needs_background": "light"
     },
     "output_type": "display_data"
    },
    {
     "name": "stdout",
     "output_type": "stream",
     "text": [
      "Input: Original Image\n"
     ]
    },
    {
     "data": {
      "image/png": "[encoded data removed]",
      "text/plain": [
       "<Figure size 360x360 with 3 Axes>"
      ]
     },
     "metadata": {
      "needs_background": "light"
     },
     "output_type": "display_data"
    },
    {
     "name": "stdout",
     "output_type": "stream",
     "text": [
      "Input: Zoomed Image\n"
     ]
    },
    {
     "data": {
      "image/png": "[encoded data removed]",
      "text/plain": [
       "<Figure size 360x360 with 3 Axes>"
      ]
     },
     "metadata": {
      "needs_background": "light"
     },
     "output_type": "display_data"
    },
    {
     "name": "stdout",
     "output_type": "stream",
     "text": [
      "Input: Zoomed and Blurred Image\n"
     ]
    },
    {
     "data": {
      "image/png": "[encoded data removed]",
      "text/plain": [
       "<Figure size 360x360 with 3 Axes>"
      ]
     },
     "metadata": {
      "needs_background": "light"
     },
     "output_type": "display_data"
    },
    {
     "name": "stdout",
     "output_type": "stream",
     "text": [
      "Input: Noisy Image\n"
     ]
    },
    {
     "data": {
      "image/png": "[encoded data removed]",
      "text/plain": [
       "<Figure size 360x360 with 3 Axes>"
      ]
     },
     "metadata": {
      "needs_background": "light"
     },
     "output_type": "display_data"
    },
    {
     "name": "stdout",
     "output_type": "stream",
     "text": [
      "Input: Original Image\n"
     ]
    },
    {
     "data": {
      "image/png": "[encoded data removed]",
      "text/plain": [
       "<Figure size 360x360 with 3 Axes>"
      ]
     },
     "metadata": {
      "needs_background": "light"
     },
     "output_type": "display_data"
    },
    {
     "name": "stdout",
     "output_type": "stream",
     "text": [
      "Input: Zoomed Image\n"
     ]
    },
    {
     "data": {
      "image/png": "[encoded data removed]",
      "text/plain": [
       "<Figure size 360x360 with 3 Axes>"
      ]
     },
     "metadata": {
      "needs_background": "light"
     },
     "output_type": "display_data"
    },
    {
     "name": "stdout",
     "output_type": "stream",
     "text": [
      "Input: Zoomed and Blurred Image\n"
     ]
    },
    {
     "data": {
      "image/png": "[encoded data removed]",
      "text/plain": [
       "<Figure size 360x360 with 3 Axes>"
      ]
     },
     "metadata": {
      "needs_background": "light"
     },
     "output_type": "display_data"
    },
    {
     "name": "stdout",
     "output_type": "stream",
     "text": [
      "Input: Noisy Image\n"
     ]
    },
    {
     "data": {
      "image/png": "[encoded data removed]",
      "text/plain": [
       "<Figure size 360x360 with 3 Axes>"
      ]
     },
     "metadata": {
      "needs_background": "light"
     },
     "output_type": "display_data"
    },
    {
     "name": "stdout",
     "output_type": "stream",
     "text": [
      "Input: Original Image\n"
     ]
    },
    {
     "data": {
      "image/png": "[encoded data removed]",
      "text/plain": [
       "<Figure size 360x360 with 3 Axes>"
      ]
     },
     "metadata": {
      "needs_background": "light"
     },
     "output_type": "display_data"
    },
    {
     "name": "stdout",
     "output_type": "stream",
     "text": [
      "Input: Zoomed Image\n"
     ]
    },
    {
     "data": {
      "image/png": "[encoded data removed]",
      "text/plain": [
       "<Figure size 360x360 with 3 Axes>"
      ]
     },
     "metadata": {
      "needs_background": "light"
     },
     "output_type": "display_data"
    },
    {
     "name": "stdout",
     "output_type": "stream",
     "text": [
      "Input: Zoomed and Blurred Image\n"
     ]
    },
    {
     "data": {
      "image/png": "[encoded data removed]",
      "text/plain": [
       "<Figure size 360x360 with 3 Axes>"
      ]
     },
     "metadata": {
      "needs_background": "light"
     },
     "output_type": "display_data"
    },
    {
     "name": "stdout",
     "output_type": "stream",
     "text": [
      "Input: Noisy Image\n"
     ]
    },
    {
     "data": {
      "image/png": "[encoded data removed]",
      "text/plain": [
       "<Figure size 360x360 with 3 Axes>"
      ]
     },
     "metadata": {
      "needs_background": "light"
     },
     "output_type": "display_data"
    },
    {
     "name": "stdout",
     "output_type": "stream",
     "text": [
      "Input: Original Image\n"
     ]
    },
    {
     "data": {
      "image/png": "[encoded data removed]",
      "text/plain": [
       "<Figure size 360x360 with 3 Axes>"
      ]
     },
     "metadata": {
      "needs_background": "light"
     },
     "output_type": "display_data"
    },
    {
     "name": "stdout",
     "output_type": "stream",
     "text": [
      "Input: Zoomed Image\n"
     ]
    },
    {
     "data": {
      "image/png": "[encoded data removed]",
      "text/plain": [
       "<Figure size 360x360 with 3 Axes>"
      ]
     },
     "metadata": {
      "needs_background": "light"
     },
     "output_type": "display_data"
    },
    {
     "name": "stdout",
     "output_type": "stream",
     "text": [
      "Input: Zoomed and Blurred Image\n"
     ]
    },
    {
     "data": {
      "image/png": "[encoded data removed]",
      "text/plain": [
       "<Figure size 360x360 with 3 Axes>"
      ]
     },
     "metadata": {
      "needs_background": "light"
     },
     "output_type": "display_data"
    },
    {
     "name": "stdout",
     "output_type": "stream",
     "text": [
      "Input: Noisy Image\n"
     ]
    },
    {
     "data": {
      "image/png": "[encoded data removed]",
      "text/plain": [
       "<Figure size 360x360 with 3 Axes>"
      ]
     },
     "metadata": {
      "needs_background": "light"
     },
     "output_type": "display_data"
    },
    {
     "name": "stdout",
     "output_type": "stream",
     "text": [
      "Input: Original Image\n"
     ]
    },
    {
     "data": {
      "image/png": "[encoded data removed]",
      "text/plain": [
       "<Figure size 360x360 with 3 Axes>"
      ]
     },
     "metadata": {
      "needs_background": "light"
     },
     "output_type": "display_data"
    },
    {
     "name": "stdout",
     "output_type": "stream",
     "text": [
      "Input: Zoomed Image\n"
     ]
    },
    {
     "data": {
      "image/png": "[encoded data removed]",
      "text/plain": [
       "<Figure size 360x360 with 3 Axes>"
      ]
     },
     "metadata": {
      "needs_background": "light"
     },
     "output_type": "display_data"
    },
    {
     "name": "stdout",
     "output_type": "stream",
     "text": [
      "Input: Zoomed and Blurred Image\n"
     ]
    },
    {
     "data": {
      "image/png": "[encoded data removed]",
      "text/plain": [
       "<Figure size 360x360 with 3 Axes>"
      ]
     },
     "metadata": {
      "needs_background": "light"
     },
     "output_type": "display_data"
    }
   ],
   "source": [
    "print(\" Noisy Image  Predicted Image  Actual Image\")\n",
    "for i in range(5):\n",
    "    \n",
    "    #Select an image from development set\n",
    "    index = np.random.randint(0, len(x_dev))\n",
    "    img_noise = x_dev_noise[index]\n",
    "    img_org = x_dev[index]\n",
    "    img_blur = blurred[index]\n",
    "    \n",
    "    #Make a prediction on noisy, original and a blurred image\n",
    "    pred_noise = predict(auto_encode, img_noise)\n",
    "    pred_org = predict(auto_encode, img_org)\n",
    "    pred_blur = predict(auto_encode, img_blur)\n",
    "    pred_noisy_blur = predict(auto_encode, predict(zoom_model, img_noise))\n",
    "    \n",
    "    print(\"Input: Noisy Image\")\n",
    "    plot([img_noise*255, pred_noise*255, img_org*255], figsize=(5, 5))\n",
    "    print(\"Input: Original Image\")\n",
    "    plot([img_org*255, pred_org*255, img_org*255], figsize=(5, 5))\n",
    "    print(\"Input: Zoomed Image\")\n",
    "    plot([img_blur*255, pred_blur*255, 1-original[index]], figsize=(5, 5))\n",
    "    print(\"Input: Zoomed and Blurred Image\")\n",
    "    plot([predict(zoom_model, img_noise)*255, pred_noisy_blur*255, img_org*255], figsize=(5, 5))"
   ]
  },
  {
   "cell_type": "code",
   "execution_count": null,
   "metadata": {},
   "outputs": [],
   "source": [
    "#Save the model\n",
    "auto_encode.save('mnist_auto_encoder_with_zoomed_images.h5')"
   ]
  },
  {
   "cell_type": "code",
   "execution_count": null,
   "metadata": {},
   "outputs": [],
   "source": [
    "model = auto_encode.load_weights('mnist_auto_encoder.h5')"
   ]
  },
  {
   "cell_type": "code",
   "execution_count": null,
   "metadata": {},
   "outputs": [],
   "source": [
    "plt.plot(history.history['accuracy'], label='accuracy')\n",
    "plt.plot(history.history['val_accuracy'], label='val_accuracy')\n",
    "plt.xlabel('Iterations')\n",
    "plt.ylabel('Accuracy')\n",
    "plt.legend()\n",
    "plt.show()"
   ]
  },
  {
   "cell_type": "code",
   "execution_count": null,
   "metadata": {},
   "outputs": [],
   "source": [
    "plt.plot(history.history['loss'], label='loss')\n",
    "plt.plot(history.history['val_loss'], label='val_loss')\n",
    "plt.xlabel('Iterations')\n",
    "plt.ylabel('Loss')\n",
    "plt.legend()\n",
    "plt.show()"
   ]
  },
  {
   "cell_type": "code",
   "execution_count": 56,
   "metadata": {},
   "outputs": [
    {
     "data": {
      "image/png": "[encoded data removed]",
      "text/plain": [
       "<Figure size 504x504 with 3 Axes>"
      ]
     },
     "metadata": {
      "needs_background": "light"
     },
     "output_type": "display_data"
    }
   ],
   "source": [
    "index = 600\n",
    "img = 1-blurred[index]\n",
    "pred = predict(auto_encode, img)\n",
    "plot([img, 1-img, pred], figsize=(7, 7))"
   ]
  },
  {
   "cell_type": "code",
   "execution_count": null,
   "metadata": {},
   "outputs": [],
   "source": []
  },
  {
   "cell_type": "code",
   "execution_count": null,
   "metadata": {},
   "outputs": [],
   "source": []
  }
 ],
 "metadata": {
  "kernelspec": {
   "display_name": "Python 3",
   "language": "python",
   "name": "python3"
  },
  "language_info": {
   "codemirror_mode": {
    "name": "ipython",
    "version": 3
   },
   "file_extension": ".py",
   "mimetype": "text/x-python",
   "name": "python",
   "nbconvert_exporter": "python",
   "pygments_lexer": "ipython3",
   "version": "3.7.4"
  }
 },
 "nbformat": 4,
 "nbformat_minor": 2
}
